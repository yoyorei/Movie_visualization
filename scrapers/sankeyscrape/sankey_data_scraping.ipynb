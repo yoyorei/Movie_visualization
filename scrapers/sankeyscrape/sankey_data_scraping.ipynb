{
 "cells": [
  {
   "cell_type": "code",
   "execution_count": 1,
   "metadata": {},
   "outputs": [],
   "source": [
    "from bs4 import BeautifulSoup\n",
    "import requests\n",
    "import csv\n",
    "import re\n",
    "import time\n",
    "import numpy as np\n",
    "import pandas as pd\n",
    "from get_sankey_data import get_moviedata \n",
    "import sqlalchemy\n",
    "from sqlalchemy import create_engine"
   ]
  },
  {
   "cell_type": "code",
   "execution_count": 49,
   "metadata": {},
   "outputs": [],
   "source": [
    "#2018top100\n",
    "#url=(\"https://www.boxofficemojo.com/yearly/chart/?yr=2018&p=.htm\")\n",
    "#2017top100\n",
    "url=(\"https://www.boxofficemojo.com/yearly/chart/?yr=2017&p=.htm\")\n",
    "\n",
    "movie_links=[]\n",
    "\n",
    "r = requests.get(url)\n",
    "soup = BeautifulSoup(r.text,\"lxml\")\n",
    "links = soup.find_all(\"a\", href = re.compile(\"id=\"))\n",
    "for link in links:\n",
    "    l = \"https://www.boxofficemojo.com/movies/?page=intl&\" + link[\"href\"].split(\"?\")[1]\n",
    "    movie_links.append(l)\n",
    "movie_links.pop(0)\n",
    "movie_links = movie_links[0:10]"
   ]
  },
  {
   "cell_type": "code",
   "execution_count": 31,
   "metadata": {},
   "outputs": [
    {
     "data": {
      "text/plain": [
       "'https://www.boxofficemojo.com/movies/?page=intl&view=main&id=jkrowling.htm&sort=gross&order=ASC&p=.htm'"
      ]
     },
     "execution_count": 31,
     "metadata": {},
     "output_type": "execute_result"
    }
   ],
   "source": [
    "#mcu\n",
    "#url=(\"https://www.boxofficemojo.com/franchises/chart/?id=avengers.htm\")\n",
    "#StarWars\n",
    "#url=(\"https://www.boxofficemojo.com/franchises/chart/?id=starwars.htm\")\n",
    "#JKRolling\n",
    "#url=(\"https://www.boxofficemojo.com/franchises/chart/?id=jkrowling.htm\")\n",
    "\n",
    "\n",
    "movie_links=[]\n",
    "\n",
    "r = requests.get(url)\n",
    "soup = BeautifulSoup(r.text,\"lxml\")\n",
    "links = soup.find_all(\"a\", href = re.compile(\"id=\"))\n",
    "for link in links:\n",
    "    if link.b:\n",
    "        l = \"https://www.boxofficemojo.com/movies/?page=intl&\" + link[\"href\"].split(\"?\")[1]\n",
    "        if l not in movie_links:\n",
    "            movie_links.append(l)\n",
    "movie_links.pop(0)"
   ]
  },
  {
   "cell_type": "code",
   "execution_count": 50,
   "metadata": {},
   "outputs": [
    {
     "data": {
      "text/plain": [
       "['https://www.boxofficemojo.com/movies/?page=intl&id=starwars8.htm',\n",
       " 'https://www.boxofficemojo.com/movies/?page=intl&id=beautyandthebeast2017.htm',\n",
       " 'https://www.boxofficemojo.com/movies/?page=intl&id=wonderwoman.htm',\n",
       " 'https://www.boxofficemojo.com/movies/?page=intl&id=jumanji2016.htm',\n",
       " 'https://www.boxofficemojo.com/movies/?page=intl&id=marvel17a.htm',\n",
       " 'https://www.boxofficemojo.com/movies/?page=intl&id=spiderman2017.htm',\n",
       " 'https://www.boxofficemojo.com/movies/?page=intl&id=it.htm',\n",
       " 'https://www.boxofficemojo.com/movies/?page=intl&id=marvel2017.htm',\n",
       " 'https://www.boxofficemojo.com/movies/?page=intl&id=despicableme3.htm',\n",
       " 'https://www.boxofficemojo.com/movies/?page=intl&id=dcfilm1117.htm']"
      ]
     },
     "execution_count": 50,
     "metadata": {},
     "output_type": "execute_result"
    }
   ],
   "source": [
    "movie_links"
   ]
  },
  {
   "cell_type": "code",
   "execution_count": 51,
   "metadata": {},
   "outputs": [
    {
     "name": "stderr",
     "output_type": "stream",
     "text": [
      "/Users/YoYoYe/Desktop/RutgersDataScienceBootcamp/Project/movie_visualizations/Youqing/data scraping/get_sankey_data.py:118: FutureWarning: Sorting because non-concatenation axis is not aligned. A future version\n",
      "of pandas will change to not sort by default.\n",
      "\n",
      "To accept the future behavior, pass 'sort=False'.\n",
      "\n",
      "To retain the current behavior and silence the warning, pass 'sort=True'.\n",
      "\n",
      "  concat_table = pd.concat([concat_table,final_table])\n"
     ]
    }
   ],
   "source": [
    "concat_table = get_moviedata(movie_links)"
   ]
  },
  {
   "cell_type": "code",
   "execution_count": 52,
   "metadata": {},
   "outputs": [
    {
     "data": {
      "text/html": [
       "<div>\n",
       "<style scoped>\n",
       "    .dataframe tbody tr th:only-of-type {\n",
       "        vertical-align: middle;\n",
       "    }\n",
       "\n",
       "    .dataframe tbody tr th {\n",
       "        vertical-align: top;\n",
       "    }\n",
       "\n",
       "    .dataframe thead th {\n",
       "        text-align: right;\n",
       "    }\n",
       "</style>\n",
       "<table border=\"1\" class=\"dataframe\">\n",
       "  <thead>\n",
       "    <tr style=\"text-align: right;\">\n",
       "      <th></th>\n",
       "      <th>source</th>\n",
       "      <th>target</th>\n",
       "      <th>value</th>\n",
       "    </tr>\n",
       "  </thead>\n",
       "  <tbody>\n",
       "    <tr>\n",
       "      <th>0</th>\n",
       "      <td>USA</td>\n",
       "      <td>Star Wars:The Last Jedi Domestic</td>\n",
       "      <td>620181382</td>\n",
       "    </tr>\n",
       "    <tr>\n",
       "      <th>1</th>\n",
       "      <td>Star Wars:The Last Jedi Domestic</td>\n",
       "      <td>Star Wars:The Last Jedi</td>\n",
       "      <td>620181382</td>\n",
       "    </tr>\n",
       "    <tr>\n",
       "      <th>2</th>\n",
       "      <td>Star Wars:The Last Jedi Foreign</td>\n",
       "      <td>Star Wars:The Last Jedi</td>\n",
       "      <td>712358507</td>\n",
       "    </tr>\n",
       "    <tr>\n",
       "      <th>3</th>\n",
       "      <td>United Kingdom</td>\n",
       "      <td>Star Wars:The Last Jedi Foreign</td>\n",
       "      <td>111106152</td>\n",
       "    </tr>\n",
       "    <tr>\n",
       "      <th>4</th>\n",
       "      <td>Germany</td>\n",
       "      <td>Star Wars:The Last Jedi Foreign</td>\n",
       "      <td>83164496</td>\n",
       "    </tr>\n",
       "  </tbody>\n",
       "</table>\n",
       "</div>"
      ],
      "text/plain": [
       "                             source                            target  \\\n",
       "0                               USA  Star Wars:The Last Jedi Domestic   \n",
       "1  Star Wars:The Last Jedi Domestic           Star Wars:The Last Jedi   \n",
       "2   Star Wars:The Last Jedi Foreign           Star Wars:The Last Jedi   \n",
       "3                    United Kingdom   Star Wars:The Last Jedi Foreign   \n",
       "4                           Germany   Star Wars:The Last Jedi Foreign   \n",
       "\n",
       "       value  \n",
       "0  620181382  \n",
       "1  620181382  \n",
       "2  712358507  \n",
       "3  111106152  \n",
       "4   83164496  "
      ]
     },
     "execution_count": 52,
     "metadata": {},
     "output_type": "execute_result"
    }
   ],
   "source": [
    "concat_table.source = concat_table.source.replace(\"Harry Potter and the \",\"\",regex=True)\n",
    "concat_table.target = concat_table.target.replace(\"Harry Potter and the \",\"\",regex=True)\n",
    "concat_table.head()"
   ]
  },
  {
   "cell_type": "code",
   "execution_count": 53,
   "metadata": {},
   "outputs": [],
   "source": [
    "engine = create_engine(\"sqlite:///../foreign_gross/db/movies.sqlite\", echo=False)"
   ]
  },
  {
   "cell_type": "code",
   "execution_count": 54,
   "metadata": {},
   "outputs": [],
   "source": [
    "concat_table.to_sql(\"seventeen\", con=engine,if_exists=\"replace\")"
   ]
  },
  {
   "cell_type": "code",
   "execution_count": null,
   "metadata": {},
   "outputs": [],
   "source": [
    "engine.execute(\"SELECT * FROM jkr\").fetchall()"
   ]
  },
  {
   "cell_type": "code",
   "execution_count": 38,
   "metadata": {},
   "outputs": [],
   "source": [
    "concat_table.to_csv(\"../foreign_gross/static/data/jkr.csv\",encoding=\"utf-8\")    "
   ]
  },
  {
   "cell_type": "code",
   "execution_count": null,
   "metadata": {},
   "outputs": [],
   "source": []
  }
 ],
 "metadata": {
  "kernelspec": {
   "display_name": "Python 3",
   "language": "python",
   "name": "python3"
  },
  "language_info": {
   "codemirror_mode": {
    "name": "ipython",
    "version": 3
   },
   "file_extension": ".py",
   "mimetype": "text/x-python",
   "name": "python",
   "nbconvert_exporter": "python",
   "pygments_lexer": "ipython3",
   "version": "3.7.0"
  }
 },
 "nbformat": 4,
 "nbformat_minor": 2
}
